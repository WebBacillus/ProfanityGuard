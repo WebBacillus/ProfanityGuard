{
 "cells": [
  {
   "cell_type": "code",
   "execution_count": 1,
   "metadata": {},
   "outputs": [],
   "source": [
    "import pandas as pd\n",
    "import numpy as np\n",
    "df = pd.read_csv('balaka.csv')"
   ]
  },
  {
   "cell_type": "code",
   "execution_count": 11,
   "metadata": {},
   "outputs": [],
   "source": [
    "%%capture\n",
    "%pip install datasets\n",
    "%pip install pyarrow\n",
    "%pip install jiwer"
   ]
  },
  {
   "cell_type": "code",
   "execution_count": 85,
   "metadata": {},
   "outputs": [
    {
     "data": {
      "text/html": [
       "<div>\n",
       "<style scoped>\n",
       "    .dataframe tbody tr th:only-of-type {\n",
       "        vertical-align: middle;\n",
       "    }\n",
       "\n",
       "    .dataframe tbody tr th {\n",
       "        vertical-align: top;\n",
       "    }\n",
       "\n",
       "    .dataframe thead th {\n",
       "        text-align: right;\n",
       "    }\n",
       "</style>\n",
       "<table border=\"1\" class=\"dataframe\">\n",
       "  <thead>\n",
       "    <tr style=\"text-align: right;\">\n",
       "      <th></th>\n",
       "      <th>Unnamed: 0</th>\n",
       "      <th>sentence</th>\n",
       "      <th>pred_sentence_tok</th>\n",
       "      <th>sentence_tok</th>\n",
       "      <th>pred_sentence</th>\n",
       "      <th>true_positive</th>\n",
       "      <th>true_negative</th>\n",
       "      <th>false_positive</th>\n",
       "      <th>false_negative</th>\n",
       "    </tr>\n",
       "  </thead>\n",
       "  <tbody>\n",
       "    <tr>\n",
       "      <th>0</th>\n",
       "      <td>0</td>\n",
       "      <td>พลโทแล้วเอาจริงจริงอ่ะนะถ้าผมได้เป็นทาหารแล้วเ...</td>\n",
       "      <td>คน ถู แล้ว เอา จือ นะ ถ้า ผม ได้ เป็น หา แล้ว ...</td>\n",
       "      <td>พลโท แล้ว เอาจริง จริง อ่ะ นะ ถ้า ผม ได้ เป็น ...</td>\n",
       "      <td>คนถูแล้วเอาจือนะถ้าผมได้เป็นหาแล้วเข้าไปในตมเห...</td>\n",
       "      <td>0</td>\n",
       "      <td>102</td>\n",
       "      <td>0</td>\n",
       "      <td>0</td>\n",
       "    </tr>\n",
       "    <tr>\n",
       "      <th>1</th>\n",
       "      <td>1</td>\n",
       "      <td>ใช้สองเครื่องนี้เล่นนะเห็นป้ะเนียอ่าเล่นอาโอวี...</td>\n",
       "      <td>ไร้ สอง เครื่อง นี้ เล่น นะ ใช กระ ดา อ่า ด้ ด...</td>\n",
       "      <td>ใช้ สอง เครื่อง นี้ เล่น นะ เห็น ป้ะเนีย อ่า เ...</td>\n",
       "      <td>ไร้สองเครื่องนี้เล่นนะใชกระดาอ่าด้ดาวีได้นะอ่า...</td>\n",
       "      <td>0</td>\n",
       "      <td>101</td>\n",
       "      <td>0</td>\n",
       "      <td>1</td>\n",
       "    </tr>\n",
       "    <tr>\n",
       "      <th>2</th>\n",
       "      <td>2</td>\n",
       "      <td>เพื่อนว่าไงเข้าป่าวนาคอสเข้าดิวีร่าวีร่าวีร่าว...</td>\n",
       "      <td>เป็น มะ ไง เขา ป่าว ม นะ คต เขา ดิ กู ได้หน้า ...</td>\n",
       "      <td>เพื่อน ว่า ไง เข้า ป่า วนา คอ ส เข้า ดิ วี ร่า...</td>\n",
       "      <td>เป็นมะไงเขาป่าวมนะคตเขาดิกูได้หน้าวิด้าไปยาหูม...</td>\n",
       "      <td>0</td>\n",
       "      <td>102</td>\n",
       "      <td>0</td>\n",
       "      <td>0</td>\n",
       "    </tr>\n",
       "    <tr>\n",
       "      <th>3</th>\n",
       "      <td>3</td>\n",
       "      <td>ไม่กลับตายควยเป็นไง</td>\n",
       "      <td>ไม่ กลับ ตาย ควย เป็นไง</td>\n",
       "      <td>ไม่ กลับ ตาย ควย เป็นไง</td>\n",
       "      <td>ไม่กลับตายควยเป็นไง</td>\n",
       "      <td>2</td>\n",
       "      <td>100</td>\n",
       "      <td>0</td>\n",
       "      <td>0</td>\n",
       "    </tr>\n",
       "    <tr>\n",
       "      <th>4</th>\n",
       "      <td>4</td>\n",
       "      <td>โง่ดักดานจริงจริงเลยไอ้พวกเหี้ย</td>\n",
       "      <td>โง่ ดัน ดา จริง จริง เลย พวก เหี้ย</td>\n",
       "      <td>โง่ ดักดาน จริง จริง เลย ไอ้ พวก เหี้ย</td>\n",
       "      <td>โง่ดันดาจริงจริงเลยพวกเหี้ย</td>\n",
       "      <td>2</td>\n",
       "      <td>100</td>\n",
       "      <td>0</td>\n",
       "      <td>0</td>\n",
       "    </tr>\n",
       "    <tr>\n",
       "      <th>...</th>\n",
       "      <td>...</td>\n",
       "      <td>...</td>\n",
       "      <td>...</td>\n",
       "      <td>...</td>\n",
       "      <td>...</td>\n",
       "      <td>...</td>\n",
       "      <td>...</td>\n",
       "      <td>...</td>\n",
       "      <td>...</td>\n",
       "    </tr>\n",
       "    <tr>\n",
       "      <th>261</th>\n",
       "      <td>261</td>\n",
       "      <td>ยี่ส่วนตรงนั้นหรอไอ้สุลต่านหรอลืมเมียหมดแล้วหน...</td>\n",
       "      <td>อีส ชวย ตรงนั้น อ่ะ ไอ้ สุ ละ ต่า น่ะ ลือ เมีย...</td>\n",
       "      <td>ยี่ ส่วน ตรงนั้น หรอ ไอ้ สุลต่าน หรอ ลืม เมีย ...</td>\n",
       "      <td>อีสชวยตรงนั้นอ่ะไอ้สุละต่าน่ะลือเมียไละย่ะหน่า...</td>\n",
       "      <td>0</td>\n",
       "      <td>102</td>\n",
       "      <td>0</td>\n",
       "      <td>0</td>\n",
       "    </tr>\n",
       "    <tr>\n",
       "      <th>262</th>\n",
       "      <td>262</td>\n",
       "      <td>สิ่งที่ผมไม่เข้าใจก็คือทำไมถึงยังมีคนทำอะไรอย่...</td>\n",
       "      <td>สิ่ง ที่ ผม ไม่ เข้าใจ ก็ คือ ทำไม ถึง ยังมี ค...</td>\n",
       "      <td>สิ่ง ที่ ผม ไม่ เข้าใจ ก็ คือ ทำไม ถึง ยังมี ค...</td>\n",
       "      <td>สิ่งที่ผมไม่เข้าใจก็คือทำไมถึงยังมีคนทำอะไรอย่...</td>\n",
       "      <td>0</td>\n",
       "      <td>102</td>\n",
       "      <td>0</td>\n",
       "      <td>0</td>\n",
       "    </tr>\n",
       "    <tr>\n",
       "      <th>263</th>\n",
       "      <td>263</td>\n",
       "      <td>เรื่องอืมอ้าเหี้ยพูดำว่าตอนนั้นใช่ตอนนั้นตอนนั...</td>\n",
       "      <td>ลึง อืม อ้า เหี้ย พูด เขา ตอนนั้น ถ้า ตอนนั้น ...</td>\n",
       "      <td>เรื่อง อืม อ้า เหี้ย พู ดำ ว่า ตอนนั้น ใช่ ตอน...</td>\n",
       "      <td>ลึงอืมอ้าเหี้ยพูดเขาตอนนั้นถ้าตอนนั้นตอนนั้นไม...</td>\n",
       "      <td>1</td>\n",
       "      <td>101</td>\n",
       "      <td>0</td>\n",
       "      <td>0</td>\n",
       "    </tr>\n",
       "    <tr>\n",
       "      <th>264</th>\n",
       "      <td>264</td>\n",
       "      <td>ไอ้เหี้ยกูเนี่ยในวงการ</td>\n",
       "      <td>ดี เหี้ย ไอ้ กู นัก ใน วงการ</td>\n",
       "      <td>ไอ้ เหี้ย กู เนี่ย ใน วงการ</td>\n",
       "      <td>ดีเหี้ยไอ้กูนักในวงการ</td>\n",
       "      <td>1</td>\n",
       "      <td>101</td>\n",
       "      <td>0</td>\n",
       "      <td>0</td>\n",
       "    </tr>\n",
       "    <tr>\n",
       "      <th>265</th>\n",
       "      <td>265</td>\n",
       "      <td>แล้วกูไม่ได้ทำปกคลิปเหมือนกับเขาทุกคนก็จะไม่รู...</td>\n",
       "      <td>แล้ว กู ไม่ ได้ ท[ UNK ]าปก คลิป เหมือนกับ เขา...</td>\n",
       "      <td>แล้ว กู ไม่ ได้ ทำ ปก คลิป เหมือนกับ เขา ทุกคน...</td>\n",
       "      <td>แล้วกูไม่ได้ท[UNK]าปกคลิปเหมือนกับเขาทุกคนก็จะ...</td>\n",
       "      <td>0</td>\n",
       "      <td>102</td>\n",
       "      <td>0</td>\n",
       "      <td>0</td>\n",
       "    </tr>\n",
       "  </tbody>\n",
       "</table>\n",
       "<p>266 rows × 9 columns</p>\n",
       "</div>"
      ],
      "text/plain": [
       "     Unnamed: 0                                           sentence  \\\n",
       "0             0  พลโทแล้วเอาจริงจริงอ่ะนะถ้าผมได้เป็นทาหารแล้วเ...   \n",
       "1             1  ใช้สองเครื่องนี้เล่นนะเห็นป้ะเนียอ่าเล่นอาโอวี...   \n",
       "2             2  เพื่อนว่าไงเข้าป่าวนาคอสเข้าดิวีร่าวีร่าวีร่าว...   \n",
       "3             3                                ไม่กลับตายควยเป็นไง   \n",
       "4             4                    โง่ดักดานจริงจริงเลยไอ้พวกเหี้ย   \n",
       "..          ...                                                ...   \n",
       "261         261  ยี่ส่วนตรงนั้นหรอไอ้สุลต่านหรอลืมเมียหมดแล้วหน...   \n",
       "262         262  สิ่งที่ผมไม่เข้าใจก็คือทำไมถึงยังมีคนทำอะไรอย่...   \n",
       "263         263  เรื่องอืมอ้าเหี้ยพูดำว่าตอนนั้นใช่ตอนนั้นตอนนั...   \n",
       "264         264                             ไอ้เหี้ยกูเนี่ยในวงการ   \n",
       "265         265  แล้วกูไม่ได้ทำปกคลิปเหมือนกับเขาทุกคนก็จะไม่รู...   \n",
       "\n",
       "                                     pred_sentence_tok  \\\n",
       "0    คน ถู แล้ว เอา จือ นะ ถ้า ผม ได้ เป็น หา แล้ว ...   \n",
       "1    ไร้ สอง เครื่อง นี้ เล่น นะ ใช กระ ดา อ่า ด้ ด...   \n",
       "2    เป็น มะ ไง เขา ป่าว ม นะ คต เขา ดิ กู ได้หน้า ...   \n",
       "3                              ไม่ กลับ ตาย ควย เป็นไง   \n",
       "4                   โง่ ดัน ดา จริง จริง เลย พวก เหี้ย   \n",
       "..                                                 ...   \n",
       "261  อีส ชวย ตรงนั้น อ่ะ ไอ้ สุ ละ ต่า น่ะ ลือ เมีย...   \n",
       "262  สิ่ง ที่ ผม ไม่ เข้าใจ ก็ คือ ทำไม ถึง ยังมี ค...   \n",
       "263  ลึง อืม อ้า เหี้ย พูด เขา ตอนนั้น ถ้า ตอนนั้น ...   \n",
       "264                       ดี เหี้ย ไอ้ กู นัก ใน วงการ   \n",
       "265  แล้ว กู ไม่ ได้ ท[ UNK ]าปก คลิป เหมือนกับ เขา...   \n",
       "\n",
       "                                          sentence_tok  \\\n",
       "0    พลโท แล้ว เอาจริง จริง อ่ะ นะ ถ้า ผม ได้ เป็น ...   \n",
       "1    ใช้ สอง เครื่อง นี้ เล่น นะ เห็น ป้ะเนีย อ่า เ...   \n",
       "2    เพื่อน ว่า ไง เข้า ป่า วนา คอ ส เข้า ดิ วี ร่า...   \n",
       "3                              ไม่ กลับ ตาย ควย เป็นไง   \n",
       "4               โง่ ดักดาน จริง จริง เลย ไอ้ พวก เหี้ย   \n",
       "..                                                 ...   \n",
       "261  ยี่ ส่วน ตรงนั้น หรอ ไอ้ สุลต่าน หรอ ลืม เมีย ...   \n",
       "262  สิ่ง ที่ ผม ไม่ เข้าใจ ก็ คือ ทำไม ถึง ยังมี ค...   \n",
       "263  เรื่อง อืม อ้า เหี้ย พู ดำ ว่า ตอนนั้น ใช่ ตอน...   \n",
       "264                        ไอ้ เหี้ย กู เนี่ย ใน วงการ   \n",
       "265  แล้ว กู ไม่ ได้ ทำ ปก คลิป เหมือนกับ เขา ทุกคน...   \n",
       "\n",
       "                                         pred_sentence  true_positive  \\\n",
       "0    คนถูแล้วเอาจือนะถ้าผมได้เป็นหาแล้วเข้าไปในตมเห...              0   \n",
       "1    ไร้สองเครื่องนี้เล่นนะใชกระดาอ่าด้ดาวีได้นะอ่า...              0   \n",
       "2    เป็นมะไงเขาป่าวมนะคตเขาดิกูได้หน้าวิด้าไปยาหูม...              0   \n",
       "3                                  ไม่กลับตายควยเป็นไง              2   \n",
       "4                          โง่ดันดาจริงจริงเลยพวกเหี้ย              2   \n",
       "..                                                 ...            ...   \n",
       "261  อีสชวยตรงนั้นอ่ะไอ้สุละต่าน่ะลือเมียไละย่ะหน่า...              0   \n",
       "262  สิ่งที่ผมไม่เข้าใจก็คือทำไมถึงยังมีคนทำอะไรอย่...              0   \n",
       "263  ลึงอืมอ้าเหี้ยพูดเขาตอนนั้นถ้าตอนนั้นตอนนั้นไม...              1   \n",
       "264                             ดีเหี้ยไอ้กูนักในวงการ              1   \n",
       "265  แล้วกูไม่ได้ท[UNK]าปกคลิปเหมือนกับเขาทุกคนก็จะ...              0   \n",
       "\n",
       "     true_negative  false_positive  false_negative  \n",
       "0              102               0               0  \n",
       "1              101               0               1  \n",
       "2              102               0               0  \n",
       "3              100               0               0  \n",
       "4              100               0               0  \n",
       "..             ...             ...             ...  \n",
       "261            102               0               0  \n",
       "262            102               0               0  \n",
       "263            101               0               0  \n",
       "264            101               0               0  \n",
       "265            102               0               0  \n",
       "\n",
       "[266 rows x 9 columns]"
      ]
     },
     "execution_count": 85,
     "metadata": {},
     "output_type": "execute_result"
    }
   ],
   "source": [
    "df"
   ]
  },
  {
   "cell_type": "code",
   "execution_count": 2,
   "metadata": {},
   "outputs": [],
   "source": [
    "df['true_positive'] = 0 #เจอทั้งหมด\n",
    "df['true_negative'] = 0 #ไม่เจอทั้งหมด\n",
    "df['false_positive'] = 0 #ทายมั้ว sentence ไม่หยาบ\n",
    "df['false_negative'] = 0 #ทายผิด sentence หยาบ"
   ]
  },
  {
   "cell_type": "code",
   "execution_count": 3,
   "metadata": {},
   "outputs": [],
   "source": [
    "negative = [\"กระดอ\", \"กระทิง\", \"กระสัน\", \"กระหรี่\", \"กรีด\", \"กวนส้นตีน\", \"กะหรี่\", \"กินขี้ปี้เยี่ยว\", \"ขายตัว\", \"ขี้\", \"ขโมย\", \"ข่มขืน\", \"ควย\", \"ควาย\", \"คอขาด\", \"ฆ่า\", \"จังไร\", \"จัญไร\", \"ฉิบหาย\", \"ฉี่\", \"ชั่ว\", \"ชาติหมา\", \"ชิงหมาเกิด\", \"ชิบหาย\", \"ช้างเย็ด\", \"ดาก\", \"ตอแหล\", \"ตัดหัว\", \"ตัดหำ\", \"ตาย\", \"ตีกัน\", \"ทรมาน\", \"ทาส\", \"ทุเรศ\", \"นรก\", \"บีบคอ\", \"ปากหมา\", \"ปี้กัน\", \"พ่อง\", \"พ่อมึง\", \"ฟักยู\", \"ฟาย\", \"ยัดแม่\", \"ยิงกัน\", \"ระยำ\", \"ดอกทอง\", \"โสเภณี\", \"ล่อกัน\", \"ศพ\", \"สถุล\",\n",
    "                \"สทุน\", \"สัด\", \"สันดาน\", \"สัส\", \"สาด\", \"ส้นตีน\", \"หน้าตัวเมืย\", \"ส้นตีน\", \"หมอย\", \"หรรม\", \"หัวแตก\", \"หำ\", \"หน้าหี\", \"น่าหี\", \"อนาจาร\", \"อัปปรี\", \"อีช้าง\", \"อีปลาวาฬ\", \"อีสัด\", \"อีหน้าหี\", \"อีหมา\", \"ห่า\", \"อับปรี\", \"เฆี่ยน\", \"เงี่ยน\", \"เจี๊ยว\", \"เชี่ย\", \"เด้า\", \"เผด็จการ\", \"เยี่ยว\", \"เย็ด\", \"เลือด\", \"เสือก\", \"เหล้า\", \"เหี้ย\", \"เอากัน\", \"แดก\", \"แตด\", \"แทง\", \"แม่ง\", \"แม่มึง\", \"แรด\", \"โคตร\", \"โง่\", \"โป๊\", \"โรคจิต\", \"ใจหมา\", \"ไอเข้\", \"ไอ้ขึ้หมา\", \"ไอ้บ้า\", \"ไอ้หมา\", \"เวร\", \"เวน\"]\n",
    "negative = list(dict.fromkeys(negative))\n",
    "negative.sort()"
   ]
  },
  {
   "cell_type": "code",
   "execution_count": 4,
   "metadata": {},
   "outputs": [],
   "source": [
    "for index, row in df.iterrows():\n",
    "    s = str(row['sentence'])\n",
    "    p = str(row['pred_sentence'])\n",
    "    temp = False\n",
    "    for i in negative :\n",
    "        if s.find(i) != -1 : \n",
    "            if p.find(i) != -1 :\n",
    "                df.loc[index, 'true_positive'] += 1 #เจอ\n",
    "            else : df.loc[index, 'false_negative'] += 1 #ทายผิด\n",
    "        elif p.find(i) != -1 :\n",
    "            df.loc[index, 'false_positive'] += 1 #ทายมั่ว\n",
    "        else : df.loc[index, 'true_negative'] += 1 #"
   ]
  },
  {
   "cell_type": "code",
   "execution_count": 5,
   "metadata": {},
   "outputs": [
    {
     "data": {
      "text/plain": [
       "(136, 26961, 13, 22)"
      ]
     },
     "execution_count": 5,
     "metadata": {},
     "output_type": "execute_result"
    }
   ],
   "source": [
    "tp = df['true_positive'].sum()\n",
    "tn = df['true_negative'].sum()\n",
    "fp = df['false_positive'].sum()\n",
    "fn = df['false_negative'].sum()\n",
    "tp, tn, fp, fn"
   ]
  },
  {
   "cell_type": "code",
   "execution_count": 6,
   "metadata": {},
   "outputs": [
    {
     "data": {
      "text/plain": [
       "0.912751677852349"
      ]
     },
     "execution_count": 6,
     "metadata": {},
     "output_type": "execute_result"
    }
   ],
   "source": [
    "precision = tp/(tp+fp)\n",
    "precision"
   ]
  },
  {
   "cell_type": "code",
   "execution_count": 7,
   "metadata": {},
   "outputs": [
    {
     "data": {
      "text/plain": [
       "0.8607594936708861"
      ]
     },
     "execution_count": 7,
     "metadata": {},
     "output_type": "execute_result"
    }
   ],
   "source": [
    "recall = tp/(tp+fn)\n",
    "recall"
   ]
  },
  {
   "cell_type": "code",
   "execution_count": 8,
   "metadata": {},
   "outputs": [
    {
     "data": {
      "text/plain": [
       "0.9987100103199175"
      ]
     },
     "execution_count": 8,
     "metadata": {},
     "output_type": "execute_result"
    }
   ],
   "source": [
    "acc = (tp + tn) / (tp + tn + fp + fn )\n",
    "acc"
   ]
  },
  {
   "cell_type": "code",
   "execution_count": 9,
   "metadata": {},
   "outputs": [
    {
     "data": {
      "text/plain": [
       "0.8859934853420195"
      ]
     },
     "execution_count": 9,
     "metadata": {},
     "output_type": "execute_result"
    }
   ],
   "source": [
    "f1 = 2 * ((precision * recall )/ (precision + recall))\n",
    "f1"
   ]
  },
  {
   "cell_type": "code",
   "execution_count": null,
   "metadata": {},
   "outputs": [],
   "source": [
    "wer_metric = load_metric(\"wer\")"
   ]
  },
  {
   "cell_type": "code",
   "execution_count": null,
   "metadata": {},
   "outputs": [],
   "source": [
    "cer_metric = load_metric('cer')"
   ]
  },
  {
   "cell_type": "code",
   "execution_count": null,
   "metadata": {},
   "outputs": [],
   "source": [
    "#wer\n",
    "wer_metric.compute(predictions=result_df.pred_sentence_tok_corrected,references=result_df.sentence_tok)"
   ]
  },
  {
   "cell_type": "code",
   "execution_count": null,
   "metadata": {},
   "outputs": [],
   "source": [
    "#cer\n",
    "cer_metric.compute(predictions=result_df.pred_sentence_corrected,references=result_df.sentence)"
   ]
  }
 ],
 "metadata": {
  "kernelspec": {
   "display_name": "Python 3",
   "language": "python",
   "name": "python3"
  },
  "language_info": {
   "codemirror_mode": {
    "name": "ipython",
    "version": 3
   },
   "file_extension": ".py",
   "mimetype": "text/x-python",
   "name": "python",
   "nbconvert_exporter": "python",
   "pygments_lexer": "ipython3",
   "version": "3.10.0"
  },
  "orig_nbformat": 4
 },
 "nbformat": 4,
 "nbformat_minor": 2
}
